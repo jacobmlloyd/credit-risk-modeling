{
  "nbformat": 4,
  "nbformat_minor": 0,
  "metadata": {
    "colab": {
      "name": "Credit Risk Modeling - Potential Sets.ipynb",
      "provenance": [],
      "toc_visible": true,
      "authorship_tag": "ABX9TyNBnEDNQwgicPF5JhB2qoUu",
      "include_colab_link": true
    },
    "kernelspec": {
      "name": "python3",
      "display_name": "Python 3"
    },
    "language_info": {
      "name": "python"
    }
  },
  "cells": [
    {
      "cell_type": "markdown",
      "metadata": {
        "id": "view-in-github",
        "colab_type": "text"
      },
      "source": [
        "<a href=\"https://colab.research.google.com/github/jacobmlloyd/credit-risk-modeling/blob/main/Credit_Risk_Modeling_Potential_Sets.ipynb\" target=\"_parent\"><img src=\"https://colab.research.google.com/assets/colab-badge.svg\" alt=\"Open In Colab\"/></a>"
      ]
    },
    {
      "cell_type": "markdown",
      "source": [
        "# First Data Set (Approved)"
      ],
      "metadata": {
        "id": "bPbDfh61scAv"
      }
    },
    {
      "cell_type": "markdown",
      "source": [
        "This data set uses the Lending Club's publicly available data. The Bad column is our target, and it indicates if the loan ended up in bad standing. Below you can find the data dictionary. This will contain a classification model. Data taken from https://github.com/deepanshu88/Datasets/blob/master/CreditData/Loan%20Data.csv"
      ],
      "metadata": {
        "id": "d7Ts4evTseuZ"
      }
    },
    {
      "cell_type": "markdown",
      "source": [
        "| Name   | Description                                    |\n",
        "|--------|------------------------------------------------|\n",
        "| YOB    | Year of Birth (99 if unknown)                  |\n",
        "| NKID   | Number of Children                             |\n",
        "| DEP    | Number of Other Dependents                     |\n",
        "| PHON   | Is there a homephone? 1 = yes; 0 = no          |\n",
        "| SINC   | Spouses Income                                 |\n",
        "| AES    | Applicants Employment Status (See Notes Below) |\n",
        "| DAINC  | Applicants Income                              |\n",
        "| RES    | Residential Status (See Notes Below)           |\n",
        "| DHVAL  | Value of Home                                  |\n",
        "| DMORT  | Outstanding Mortgage Balance                   |\n",
        "| DOUTM  | Outgoings on Mortgage or Rent                  |\n",
        "| DOUTL  | Outgoings on Loans                             |\n",
        "| DOUTHP | Outgoings on Hire Purchase                     |\n",
        "| DOUTCC | Outgoings on Credit Cards                      |\n",
        "| BAD    | 1 = Bad, 0 = Good                              |\n",
        "\n",
        "> AES Options: V = Government,\n",
        "  W = housewife,\n",
        "  M = military,\n",
        "  P = private sector,\n",
        "  B = public sector,\n",
        "  R = retired,\n",
        "  E = self employed,\n",
        "  T = student,\n",
        "  U = unemployed,\n",
        "  N = others,\n",
        "  Z  = no response\n",
        "\n",
        "> RES Options: O = Owner,\n",
        "  F = tenant furnished,\n",
        "  U = Tenant Unfurnished,\n",
        "  P = With parents,\n",
        "  N = Other,\n",
        "  Z = No response,\n",
        "\n",
        "> DHVAL Options: 0 = no response or not owner,\n",
        "  000001 = zero value,\n",
        "  blank = no response,\n",
        "\n",
        "> DMORT Options: 0 = no response or not owner,\n",
        "  000001 = zero balance,\n",
        "  blank = no response,"
      ],
      "metadata": {
        "id": "VwRQAlwSuUox"
      }
    },
    {
      "cell_type": "code",
      "execution_count": 1,
      "metadata": {
        "id": "v0eHUjRM_Oeb"
      },
      "outputs": [],
      "source": [
        "import pandas as pd"
      ]
    },
    {
      "cell_type": "code",
      "source": [
        "df = pd.read_csv(\"https://raw.githubusercontent.com/jacobmlloyd/credit-risk-modeling/main/Loan%20Data.csv\")\n",
        "df.head()"
      ],
      "metadata": {
        "colab": {
          "base_uri": "https://localhost:8080/",
          "height": 206
        },
        "id": "XRiiKhPP_RiP",
        "outputId": "cc45aaaf-ed6a-45f0-fb90-a1c049d3e068"
      },
      "execution_count": 2,
      "outputs": [
        {
          "output_type": "execute_result",
          "data": {
            "text/plain": [
              "    YOB  NKID  DEP  PHON  SINC AES    DAINC RES    DHVAL   DMORT  DOUTM  \\\n",
              "0  19.0   4.0  0.0     1   0.0   R      0.0   O  14464.0     4.0    0.0   \n",
              "1  41.0   2.0  0.0     1   0.0   P  36000.0   O      0.0     0.0  280.0   \n",
              "2  66.0   0.0  0.0     1   0.0   N  30000.0   N      0.0     0.0    0.0   \n",
              "3  51.0   2.0  0.0     1   0.0   P    464.0   O  24928.0  8464.0  584.0   \n",
              "4  65.0   0.0  0.0     1   0.0   P  15000.0   P      0.0     0.0    0.0   \n",
              "\n",
              "   DOUTL  DOUTHP  DOUTCC  BAD  \n",
              "0    0.0     0.0     0.0  0.0  \n",
              "1  664.0     0.0    80.0  0.0  \n",
              "2    0.0     0.0     0.0  0.0  \n",
              "3  320.0     0.0    60.0  0.0  \n",
              "4    0.0     0.0     0.0  0.0  "
            ],
            "text/html": [
              "\n",
              "  <div id=\"df-a85be692-3b40-4805-a0c5-9a12f52ccfdd\">\n",
              "    <div class=\"colab-df-container\">\n",
              "      <div>\n",
              "<style scoped>\n",
              "    .dataframe tbody tr th:only-of-type {\n",
              "        vertical-align: middle;\n",
              "    }\n",
              "\n",
              "    .dataframe tbody tr th {\n",
              "        vertical-align: top;\n",
              "    }\n",
              "\n",
              "    .dataframe thead th {\n",
              "        text-align: right;\n",
              "    }\n",
              "</style>\n",
              "<table border=\"1\" class=\"dataframe\">\n",
              "  <thead>\n",
              "    <tr style=\"text-align: right;\">\n",
              "      <th></th>\n",
              "      <th>YOB</th>\n",
              "      <th>NKID</th>\n",
              "      <th>DEP</th>\n",
              "      <th>PHON</th>\n",
              "      <th>SINC</th>\n",
              "      <th>AES</th>\n",
              "      <th>DAINC</th>\n",
              "      <th>RES</th>\n",
              "      <th>DHVAL</th>\n",
              "      <th>DMORT</th>\n",
              "      <th>DOUTM</th>\n",
              "      <th>DOUTL</th>\n",
              "      <th>DOUTHP</th>\n",
              "      <th>DOUTCC</th>\n",
              "      <th>BAD</th>\n",
              "    </tr>\n",
              "  </thead>\n",
              "  <tbody>\n",
              "    <tr>\n",
              "      <th>0</th>\n",
              "      <td>19.0</td>\n",
              "      <td>4.0</td>\n",
              "      <td>0.0</td>\n",
              "      <td>1</td>\n",
              "      <td>0.0</td>\n",
              "      <td>R</td>\n",
              "      <td>0.0</td>\n",
              "      <td>O</td>\n",
              "      <td>14464.0</td>\n",
              "      <td>4.0</td>\n",
              "      <td>0.0</td>\n",
              "      <td>0.0</td>\n",
              "      <td>0.0</td>\n",
              "      <td>0.0</td>\n",
              "      <td>0.0</td>\n",
              "    </tr>\n",
              "    <tr>\n",
              "      <th>1</th>\n",
              "      <td>41.0</td>\n",
              "      <td>2.0</td>\n",
              "      <td>0.0</td>\n",
              "      <td>1</td>\n",
              "      <td>0.0</td>\n",
              "      <td>P</td>\n",
              "      <td>36000.0</td>\n",
              "      <td>O</td>\n",
              "      <td>0.0</td>\n",
              "      <td>0.0</td>\n",
              "      <td>280.0</td>\n",
              "      <td>664.0</td>\n",
              "      <td>0.0</td>\n",
              "      <td>80.0</td>\n",
              "      <td>0.0</td>\n",
              "    </tr>\n",
              "    <tr>\n",
              "      <th>2</th>\n",
              "      <td>66.0</td>\n",
              "      <td>0.0</td>\n",
              "      <td>0.0</td>\n",
              "      <td>1</td>\n",
              "      <td>0.0</td>\n",
              "      <td>N</td>\n",
              "      <td>30000.0</td>\n",
              "      <td>N</td>\n",
              "      <td>0.0</td>\n",
              "      <td>0.0</td>\n",
              "      <td>0.0</td>\n",
              "      <td>0.0</td>\n",
              "      <td>0.0</td>\n",
              "      <td>0.0</td>\n",
              "      <td>0.0</td>\n",
              "    </tr>\n",
              "    <tr>\n",
              "      <th>3</th>\n",
              "      <td>51.0</td>\n",
              "      <td>2.0</td>\n",
              "      <td>0.0</td>\n",
              "      <td>1</td>\n",
              "      <td>0.0</td>\n",
              "      <td>P</td>\n",
              "      <td>464.0</td>\n",
              "      <td>O</td>\n",
              "      <td>24928.0</td>\n",
              "      <td>8464.0</td>\n",
              "      <td>584.0</td>\n",
              "      <td>320.0</td>\n",
              "      <td>0.0</td>\n",
              "      <td>60.0</td>\n",
              "      <td>0.0</td>\n",
              "    </tr>\n",
              "    <tr>\n",
              "      <th>4</th>\n",
              "      <td>65.0</td>\n",
              "      <td>0.0</td>\n",
              "      <td>0.0</td>\n",
              "      <td>1</td>\n",
              "      <td>0.0</td>\n",
              "      <td>P</td>\n",
              "      <td>15000.0</td>\n",
              "      <td>P</td>\n",
              "      <td>0.0</td>\n",
              "      <td>0.0</td>\n",
              "      <td>0.0</td>\n",
              "      <td>0.0</td>\n",
              "      <td>0.0</td>\n",
              "      <td>0.0</td>\n",
              "      <td>0.0</td>\n",
              "    </tr>\n",
              "  </tbody>\n",
              "</table>\n",
              "</div>\n",
              "      <button class=\"colab-df-convert\" onclick=\"convertToInteractive('df-a85be692-3b40-4805-a0c5-9a12f52ccfdd')\"\n",
              "              title=\"Convert this dataframe to an interactive table.\"\n",
              "              style=\"display:none;\">\n",
              "        \n",
              "  <svg xmlns=\"http://www.w3.org/2000/svg\" height=\"24px\"viewBox=\"0 0 24 24\"\n",
              "       width=\"24px\">\n",
              "    <path d=\"M0 0h24v24H0V0z\" fill=\"none\"/>\n",
              "    <path d=\"M18.56 5.44l.94 2.06.94-2.06 2.06-.94-2.06-.94-.94-2.06-.94 2.06-2.06.94zm-11 1L8.5 8.5l.94-2.06 2.06-.94-2.06-.94L8.5 2.5l-.94 2.06-2.06.94zm10 10l.94 2.06.94-2.06 2.06-.94-2.06-.94-.94-2.06-.94 2.06-2.06.94z\"/><path d=\"M17.41 7.96l-1.37-1.37c-.4-.4-.92-.59-1.43-.59-.52 0-1.04.2-1.43.59L10.3 9.45l-7.72 7.72c-.78.78-.78 2.05 0 2.83L4 21.41c.39.39.9.59 1.41.59.51 0 1.02-.2 1.41-.59l7.78-7.78 2.81-2.81c.8-.78.8-2.07 0-2.86zM5.41 20L4 18.59l7.72-7.72 1.47 1.35L5.41 20z\"/>\n",
              "  </svg>\n",
              "      </button>\n",
              "      \n",
              "  <style>\n",
              "    .colab-df-container {\n",
              "      display:flex;\n",
              "      flex-wrap:wrap;\n",
              "      gap: 12px;\n",
              "    }\n",
              "\n",
              "    .colab-df-convert {\n",
              "      background-color: #E8F0FE;\n",
              "      border: none;\n",
              "      border-radius: 50%;\n",
              "      cursor: pointer;\n",
              "      display: none;\n",
              "      fill: #1967D2;\n",
              "      height: 32px;\n",
              "      padding: 0 0 0 0;\n",
              "      width: 32px;\n",
              "    }\n",
              "\n",
              "    .colab-df-convert:hover {\n",
              "      background-color: #E2EBFA;\n",
              "      box-shadow: 0px 1px 2px rgba(60, 64, 67, 0.3), 0px 1px 3px 1px rgba(60, 64, 67, 0.15);\n",
              "      fill: #174EA6;\n",
              "    }\n",
              "\n",
              "    [theme=dark] .colab-df-convert {\n",
              "      background-color: #3B4455;\n",
              "      fill: #D2E3FC;\n",
              "    }\n",
              "\n",
              "    [theme=dark] .colab-df-convert:hover {\n",
              "      background-color: #434B5C;\n",
              "      box-shadow: 0px 1px 3px 1px rgba(0, 0, 0, 0.15);\n",
              "      filter: drop-shadow(0px 1px 2px rgba(0, 0, 0, 0.3));\n",
              "      fill: #FFFFFF;\n",
              "    }\n",
              "  </style>\n",
              "\n",
              "      <script>\n",
              "        const buttonEl =\n",
              "          document.querySelector('#df-a85be692-3b40-4805-a0c5-9a12f52ccfdd button.colab-df-convert');\n",
              "        buttonEl.style.display =\n",
              "          google.colab.kernel.accessAllowed ? 'block' : 'none';\n",
              "\n",
              "        async function convertToInteractive(key) {\n",
              "          const element = document.querySelector('#df-a85be692-3b40-4805-a0c5-9a12f52ccfdd');\n",
              "          const dataTable =\n",
              "            await google.colab.kernel.invokeFunction('convertToInteractive',\n",
              "                                                     [key], {});\n",
              "          if (!dataTable) return;\n",
              "\n",
              "          const docLinkHtml = 'Like what you see? Visit the ' +\n",
              "            '<a target=\"_blank\" href=https://colab.research.google.com/notebooks/data_table.ipynb>data table notebook</a>'\n",
              "            + ' to learn more about interactive tables.';\n",
              "          element.innerHTML = '';\n",
              "          dataTable['output_type'] = 'display_data';\n",
              "          await google.colab.output.renderOutput(dataTable, element);\n",
              "          const docLink = document.createElement('div');\n",
              "          docLink.innerHTML = docLinkHtml;\n",
              "          element.appendChild(docLink);\n",
              "        }\n",
              "      </script>\n",
              "    </div>\n",
              "  </div>\n",
              "  "
            ]
          },
          "metadata": {},
          "execution_count": 2
        }
      ]
    },
    {
      "cell_type": "code",
      "source": [
        "df.info()"
      ],
      "metadata": {
        "colab": {
          "base_uri": "https://localhost:8080/"
        },
        "id": "4gKQ1fB6vYFH",
        "outputId": "12d6d266-57a2-4835-9f55-cb1eb87e809d"
      },
      "execution_count": 3,
      "outputs": [
        {
          "output_type": "stream",
          "name": "stdout",
          "text": [
            "<class 'pandas.core.frame.DataFrame'>\n",
            "RangeIndex: 1225 entries, 0 to 1224\n",
            "Data columns (total 15 columns):\n",
            " #   Column  Non-Null Count  Dtype  \n",
            "---  ------  --------------  -----  \n",
            " 0   YOB     1225 non-null   float64\n",
            " 1   NKID    1225 non-null   float64\n",
            " 2   DEP     1225 non-null   float64\n",
            " 3   PHON    1225 non-null   int64  \n",
            " 4   SINC    1225 non-null   float64\n",
            " 5   AES     1225 non-null   object \n",
            " 6   DAINC   1225 non-null   float64\n",
            " 7   RES     1225 non-null   object \n",
            " 8   DHVAL   1225 non-null   float64\n",
            " 9   DMORT   1225 non-null   float64\n",
            " 10  DOUTM   1225 non-null   float64\n",
            " 11  DOUTL   1225 non-null   float64\n",
            " 12  DOUTHP  1225 non-null   float64\n",
            " 13  DOUTCC  1225 non-null   float64\n",
            " 14  BAD     1225 non-null   float64\n",
            "dtypes: float64(12), int64(1), object(2)\n",
            "memory usage: 143.7+ KB\n"
          ]
        }
      ]
    },
    {
      "cell_type": "markdown",
      "source": [
        "There are 1225 rows, and 14 features. Overall with this data set I see the biggest challenge being the fact that the data has so many values that are not normal, for example there are zero values represented as non-zero numbers."
      ],
      "metadata": {
        "id": "fazlYJ4LvRjZ"
      }
    },
    {
      "cell_type": "markdown",
      "source": [
        "## Second Data Set"
      ],
      "metadata": {
        "id": "1nRxX5i86xNy"
      }
    },
    {
      "cell_type": "markdown",
      "source": [
        "This data set contains information about vehicles and their evaluation. More information on the dataset can be found here: http://archive.ics.uci.edu/ml/datasets/Car+Evaluation"
      ],
      "metadata": {
        "id": "PXfW2GQQ6zma"
      }
    },
    {
      "cell_type": "code",
      "source": [
        "df2 = pd.read_csv(\"https://raw.githubusercontent.com/jacobmlloyd/credit-risk-modeling/main/car.data\", index_col=None, header=None)\n",
        "df2.head()\n",
        "df.info()"
      ],
      "metadata": {
        "colab": {
          "base_uri": "https://localhost:8080/"
        },
        "id": "ct5oO_dH7FPS",
        "outputId": "16675832-4d79-43c2-e22e-72aaffb396d5"
      },
      "execution_count": 12,
      "outputs": [
        {
          "output_type": "stream",
          "name": "stdout",
          "text": [
            "<class 'pandas.core.frame.DataFrame'>\n",
            "RangeIndex: 1225 entries, 0 to 1224\n",
            "Data columns (total 15 columns):\n",
            " #   Column  Non-Null Count  Dtype  \n",
            "---  ------  --------------  -----  \n",
            " 0   YOB     1225 non-null   float64\n",
            " 1   NKID    1225 non-null   float64\n",
            " 2   DEP     1225 non-null   float64\n",
            " 3   PHON    1225 non-null   int64  \n",
            " 4   SINC    1225 non-null   float64\n",
            " 5   AES     1225 non-null   object \n",
            " 6   DAINC   1225 non-null   float64\n",
            " 7   RES     1225 non-null   object \n",
            " 8   DHVAL   1225 non-null   float64\n",
            " 9   DMORT   1225 non-null   float64\n",
            " 10  DOUTM   1225 non-null   float64\n",
            " 11  DOUTL   1225 non-null   float64\n",
            " 12  DOUTHP  1225 non-null   float64\n",
            " 13  DOUTCC  1225 non-null   float64\n",
            " 14  BAD     1225 non-null   float64\n",
            "dtypes: float64(12), int64(1), object(2)\n",
            "memory usage: 143.7+ KB\n"
          ]
        }
      ]
    },
    {
      "cell_type": "markdown",
      "source": [
        "Our target for this dataset is column 6, the actual evaluation. This is a multi-class classification problem. There are 5 features in this dataset and 1225 rows. I forsee predicting the evaluation off of such little data being difficult. I will have to hypertune to get anywhere near the accuracy I want. "
      ],
      "metadata": {
        "id": "sCXm1DGg7jCS"
      }
    }
  ]
}